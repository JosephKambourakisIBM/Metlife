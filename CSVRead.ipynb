{
    "metadata": {
        "language_info": {
            "codemirror_mode": {
                "version": 2, 
                "name": "ipython"
            }, 
            "file_extension": ".py", 
            "nbconvert_exporter": "python", 
            "mimetype": "text/x-python", 
            "pygments_lexer": "ipython2", 
            "name": "python", 
            "version": "2.7.11"
        }, 
        "kernelspec": {
            "display_name": "Python 2 with Spark 2.0", 
            "language": "python", 
            "name": "python2-spark20"
        }
    }, 
    "nbformat": 4, 
    "cells": [
        {
            "metadata": {}, 
            "cell_type": "markdown", 
            "source": "![Alt text](http://www.gannett-cdn.com/-mm-/1583e6ea8155b5d684fb3fa9ebb795b250e91f9a/c=0-113-909-796&r=x408&c=540x405/local/-/media/2016/10/20/USATODAY/USATODAY/636125763782842649-MetLife-Logo-Reduced-copy.jpg)"
        }, 
        {
            "metadata": {}, 
            "cell_type": "markdown", 
            "source": "# Metlife Sample Notebook\nThis is an attempt to mimic much of the work the Metlife team did with data cleansing"
        }, 
        {
            "metadata": {}, 
            "cell_type": "markdown", 
            "source": "## Read a csv\nThe Metlife team worked with many csv files"
        }, 
        {
            "outputs": [
                {
                    "output_type": "stream", 
                    "text": "--2017-02-14 12:20:15--  https://raw.githubusercontent.com/JosephKambourakisIBM/Meetup/master/SAheart.csv\nResolving raw.githubusercontent.com (raw.githubusercontent.com)... 151.101.48.133\nConnecting to raw.githubusercontent.com (raw.githubusercontent.com)|151.101.48.133|:443... connected.\nHTTP request sent, awaiting response... 200 OK\nLength: 21499 (21K) [text/plain]\nSaving to: \u2018SAheart.csv.1\u2019\n\n100%[======================================>] 21,499      --.-K/s   in 0.001s  \n\n2017-02-14 12:20:15 (34.0 MB/s) - \u2018SAheart.csv.1\u2019 saved [21499/21499]\n\n", 
                    "name": "stdout"
                }
            ], 
            "metadata": {
                "collapsed": false
            }, 
            "cell_type": "code", 
            "execution_count": 1, 
            "source": "!wget https://raw.githubusercontent.com/JosephKambourakisIBM/Meetup/master/SAheart.csv\n"
        }, 
        {
            "outputs": [], 
            "metadata": {
                "collapsed": false
            }, 
            "cell_type": "code", 
            "execution_count": 2, 
            "source": "from pyspark.sql import SparkSession\nspark = SparkSession.builder.getOrCreate()\n\nrawdata = spark.read.option('header', True).csv(\"SAheart.csv\")"
        }, 
        {
            "metadata": {}, 
            "cell_type": "markdown", 
            "source": "## Look at the first five rows"
        }, 
        {
            "outputs": [
                {
                    "output_type": "execute_result", 
                    "metadata": {}, 
                    "execution_count": 3, 
                    "data": {
                        "text/plain": "[Row(sbp=u'160', tobacco=u'12', ldl=u'5.73', adiposity=u'23.11', famhist=u'Present', typea=u'49', obesity=u'25.3', alcohol=u'97.2', age=u'52', chd=u'1'),\n Row(sbp=u'144', tobacco=u'0.01', ldl=u'4.41', adiposity=u'28.61', famhist=u'Absent', typea=u'55', obesity=u'28.87', alcohol=u'2.06', age=u'63', chd=u'1'),\n Row(sbp=u'118', tobacco=u'0.08', ldl=u'3.48', adiposity=u'32.28', famhist=u'Present', typea=u'52', obesity=u'29.14', alcohol=u'3.81', age=u'46', chd=u'0'),\n Row(sbp=u'170', tobacco=u'7.5', ldl=u'6.41', adiposity=u'38.03', famhist=u'Present', typea=u'51', obesity=u'31.99', alcohol=u'24.26', age=u'58', chd=u'1'),\n Row(sbp=u'134', tobacco=u'13.6', ldl=u'3.5', adiposity=u'27.78', famhist=u'Present', typea=u'60', obesity=u'25.99', alcohol=u'57.34', age=u'49', chd=u'1')]"
                    }
                }
            ], 
            "metadata": {
                "collapsed": false
            }, 
            "cell_type": "code", 
            "execution_count": 3, 
            "source": "rawdata.take(5)"
        }, 
        {
            "metadata": {}, 
            "cell_type": "markdown", 
            "source": "## Clean the data"
        }, 
        {
            "outputs": [
                {
                    "output_type": "stream", 
                    "text": "root\n |-- sbp: float (nullable = true)\n |-- tobacco: float (nullable = true)\n |-- ldl: float (nullable = true)\n |-- adiposity: float (nullable = true)\n |-- famhist: string (nullable = true)\n |-- typea: integer (nullable = true)\n |-- obesity: float (nullable = true)\n |-- alcohol: float (nullable = true)\n |-- age: integer (nullable = true)\n |-- chd: float (nullable = true)\n\n", 
                    "name": "stdout"
                }
            ], 
            "metadata": {
                "scrolled": false, 
                "collapsed": false
            }, 
            "cell_type": "code", 
            "execution_count": 4, 
            "source": "cleaneddata = rawdata.withColumn(\"sbp\", rawdata[\"sbp\"].cast('float'))\\\n.withColumn(\"tobacco\", rawdata[\"tobacco\"].cast('float'))\\\n.withColumn(\"ldl\", rawdata[\"ldl\"].cast('float'))\\\n.withColumn(\"adiposity\", rawdata[\"adiposity\"].cast('float'))\\\n.withColumn(\"typea\", rawdata[\"typea\"].cast('int'))\\\n.withColumn(\"obesity\", rawdata[\"obesity\"].cast('float'))\\\n.withColumn(\"alcohol\", rawdata[\"alcohol\"].cast('float'))\\\n.withColumn(\"age\", rawdata[\"age\"].cast('int'))\\\n.withColumn(\"chd\", rawdata[\"chd\"].cast('float')) #Our model requires the dependent variable to be a float\ncleaneddata.printSchema()"
        }, 
        {
            "metadata": {}, 
            "cell_type": "markdown", 
            "source": "## Perform transformations"
        }, 
        {
            "outputs": [
                {
                    "output_type": "execute_result", 
                    "metadata": {}, 
                    "execution_count": 5, 
                    "data": {
                        "text/plain": "Row(sbp=16.0, tobacco=12.0, ldl=5.730000019073486, adiposity=23.110000610351562, famhist=u'Present', typea=49, obesity=25.299999237060547, alcohol=97.19999694824219, age=52, chd=1.0)"
                    }
                }
            ], 
            "metadata": {
                "scrolled": true, 
                "collapsed": false
            }, 
            "cell_type": "code", 
            "execution_count": 5, 
            "source": "cleaneddata1 = cleaneddata.withColumn(\"sbp\", cleaneddata[\"sbp\"]/10)\ncleaneddata1.first()"
        }, 
        {
            "outputs": [
                {
                    "output_type": "execute_result", 
                    "metadata": {}, 
                    "execution_count": 6, 
                    "data": {
                        "text/plain": "Row(sbp=160.0, tobacco=12.0, ldl=5.730000019073486, adiposity=23.110000610351562, famhist=u'Present', typea=49, obesity=25.299999237060547, alcohol=97.19999694824219, age=52, chd=1.0, sbpldl=916.7999877929688)"
                    }
                }
            ], 
            "metadata": {
                "collapsed": false
            }, 
            "cell_type": "code", 
            "execution_count": 6, 
            "source": "cleaneddata1 = cleaneddata.withColumn(\"sbpldl\", cleaneddata[\"sbp\"]*cleaneddata['ldl'])\ncleaneddata1.first()"
        }, 
        {
            "outputs": [], 
            "metadata": {
                "collapsed": true
            }, 
            "cell_type": "code", 
            "execution_count": 7, 
            "source": "def roundT(x):\n    if x > 6:\n        return x\n    else:\n        return 0.0"
        }, 
        {
            "outputs": [
                {
                    "output_type": "execute_result", 
                    "metadata": {}, 
                    "execution_count": 8, 
                    "data": {
                        "text/plain": "[Row(sbp=160.0, tobacco=12.0, ldl=5.730000019073486, adiposity=23.110000610351562, famhist=u'Present', typea=49, obesity=25.299999237060547, alcohol=97.19999694824219, age=52, chd=1.0),\n Row(sbp=144.0, tobacco=0.0, ldl=4.409999847412109, adiposity=28.610000610351562, famhist=u'Absent', typea=55, obesity=28.8700008392334, alcohol=2.059999942779541, age=63, chd=1.0),\n Row(sbp=118.0, tobacco=0.0, ldl=3.4800000190734863, adiposity=32.279998779296875, famhist=u'Present', typea=52, obesity=29.139999389648438, alcohol=3.809999942779541, age=46, chd=0.0),\n Row(sbp=170.0, tobacco=7.5, ldl=6.409999847412109, adiposity=38.029998779296875, famhist=u'Present', typea=51, obesity=31.989999771118164, alcohol=24.260000228881836, age=58, chd=1.0),\n Row(sbp=134.0, tobacco=13.600000381469727, ldl=3.5, adiposity=27.780000686645508, famhist=u'Present', typea=60, obesity=25.989999771118164, alcohol=57.34000015258789, age=49, chd=1.0),\n Row(sbp=132.0, tobacco=6.199999809265137, ldl=6.46999979019165, adiposity=36.209999084472656, famhist=u'Present', typea=62, obesity=30.770000457763672, alcohol=14.140000343322754, age=45, chd=0.0)]"
                    }
                }
            ], 
            "metadata": {
                "scrolled": true, 
                "collapsed": false
            }, 
            "cell_type": "code", 
            "execution_count": 8, 
            "source": "from pyspark.sql.functions import UserDefinedFunction\nfrom pyspark.sql.types import StringType, FloatType\nroundT = UserDefinedFunction(roundT,FloatType())\ndf = cleaneddata.withColumn('tobacco', roundT(cleaneddata['tobacco']))\ndf.take(6)"
        }
    ], 
    "nbformat_minor": 0
}