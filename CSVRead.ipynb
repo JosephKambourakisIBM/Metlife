{
    "nbformat_minor": 0, 
    "metadata": {
        "language_info": {
            "file_extension": ".py", 
            "pygments_lexer": "ipython2", 
            "mimetype": "text/x-python", 
            "nbconvert_exporter": "python", 
            "version": "2.7.11", 
            "name": "python", 
            "codemirror_mode": {
                "name": "ipython", 
                "version": 2
            }
        }, 
        "kernelspec": {
            "name": "python2-spark20", 
            "language": "python", 
            "display_name": "Python 2 with Spark 2.0"
        }
    }, 
    "cells": [
        {
            "source": "![Alt text](http://www.gannett-cdn.com/-mm-/1583e6ea8155b5d684fb3fa9ebb795b250e91f9a/c=0-113-909-796&r=x408&c=540x405/local/-/media/2016/10/20/USATODAY/USATODAY/636125763782842649-MetLife-Logo-Reduced-copy.jpg)", 
            "metadata": {}, 
            "cell_type": "markdown"
        }, 
        {
            "source": "# Metlife Sample Notebook\nThis is an attempt to mimic much of the work the Metlife team did with data cleansing", 
            "metadata": {}, 
            "cell_type": "markdown"
        }, 
        {
            "source": "## Read a csv\nThe Metlife team worked with many csv files", 
            "metadata": {}, 
            "cell_type": "markdown"
        }, 
        {
            "source": "!wget https://raw.githubusercontent.com/JosephKambourakisIBM/Meetup/master/SAheart.csv\n", 
            "metadata": {
                "collapsed": false
            }, 
            "execution_count": 1, 
            "cell_type": "code", 
            "outputs": [
                {
                    "name": "stdout", 
                    "output_type": "stream", 
                    "text": "--2017-02-13 14:59:36--  https://raw.githubusercontent.com/JosephKambourakisIBM/Meetup/master/SAheart.csv\nResolving raw.githubusercontent.com (raw.githubusercontent.com)... 151.101.48.133\nConnecting to raw.githubusercontent.com (raw.githubusercontent.com)|151.101.48.133|:443... connected.\nHTTP request sent, awaiting response... 200 OK\nLength: 21499 (21K) [text/plain]\nSaving to: \u2018SAheart.csv\u2019\n\n100%[======================================>] 21,499      --.-K/s   in 0.001s  \n\n2017-02-13 14:59:36 (35.5 MB/s) - \u2018SAheart.csv\u2019 saved [21499/21499]\n\n"
                }
            ]
        }, 
        {
            "source": "from pyspark.sql import SparkSession\nspark = SparkSession.builder.getOrCreate()\n\nSARaw = spark.read.option('header', True).csv(\"SAheart.csv\")", 
            "metadata": {
                "collapsed": false
            }, 
            "execution_count": 9, 
            "cell_type": "code", 
            "outputs": []
        }, 
        {
            "source": "## Look at the first five rows", 
            "metadata": {}, 
            "cell_type": "markdown"
        }, 
        {
            "source": "SARaw.take(5)", 
            "metadata": {
                "collapsed": false
            }, 
            "execution_count": 10, 
            "cell_type": "code", 
            "outputs": [
                {
                    "execution_count": 10, 
                    "output_type": "execute_result", 
                    "data": {
                        "text/plain": "[Row(sbp=u'160', tobacco=u'12', ldl=u'5.73', adiposity=u'23.11', famhist=u'Present', typea=u'49', obesity=u'25.3', alcohol=u'97.2', age=u'52', chd=u'1'),\n Row(sbp=u'144', tobacco=u'0.01', ldl=u'4.41', adiposity=u'28.61', famhist=u'Absent', typea=u'55', obesity=u'28.87', alcohol=u'2.06', age=u'63', chd=u'1'),\n Row(sbp=u'118', tobacco=u'0.08', ldl=u'3.48', adiposity=u'32.28', famhist=u'Present', typea=u'52', obesity=u'29.14', alcohol=u'3.81', age=u'46', chd=u'0'),\n Row(sbp=u'170', tobacco=u'7.5', ldl=u'6.41', adiposity=u'38.03', famhist=u'Present', typea=u'51', obesity=u'31.99', alcohol=u'24.26', age=u'58', chd=u'1'),\n Row(sbp=u'134', tobacco=u'13.6', ldl=u'3.5', adiposity=u'27.78', famhist=u'Present', typea=u'60', obesity=u'25.99', alcohol=u'57.34', age=u'49', chd=u'1')]"
                    }, 
                    "metadata": {}
                }
            ]
        }, 
        {
            "source": "## Clean the data", 
            "metadata": {}, 
            "cell_type": "markdown"
        }, 
        {
            "source": "cleaneddata = SARaw.withColumn(\"sbp\", SARaw[\"sbp\"].cast('float'))\ncleaneddata.first()", 
            "metadata": {
                "collapsed": false
            }, 
            "execution_count": 16, 
            "cell_type": "code", 
            "outputs": [
                {
                    "execution_count": 16, 
                    "output_type": "execute_result", 
                    "data": {
                        "text/plain": "Row(sbp=160.0, tobacco=u'12', ldl=u'5.73', adiposity=u'23.11', famhist=u'Present', typea=u'49', obesity=u'25.3', alcohol=u'97.2', age=u'52', chd=u'1')"
                    }, 
                    "metadata": {}
                }
            ]
        }, 
        {
            "source": "## Perform transformations", 
            "metadata": {}, 
            "cell_type": "markdown"
        }, 
        {
            "source": "cleaneddata1 = SARaw.withColumn(\"sbp\", SARaw[\"sbp\"]/10)\ncleaneddata1.first()", 
            "metadata": {
                "collapsed": false
            }, 
            "execution_count": 17, 
            "cell_type": "code", 
            "outputs": [
                {
                    "execution_count": 17, 
                    "output_type": "execute_result", 
                    "data": {
                        "text/plain": "Row(sbp=16.0, tobacco=u'12', ldl=u'5.73', adiposity=u'23.11', famhist=u'Present', typea=u'49', obesity=u'25.3', alcohol=u'97.2', age=u'52', chd=u'1')"
                    }, 
                    "metadata": {}
                }
            ]
        }, 
        {
            "source": "", 
            "metadata": {
                "collapsed": true
            }, 
            "execution_count": null, 
            "cell_type": "code", 
            "outputs": []
        }
    ], 
    "nbformat": 4
}